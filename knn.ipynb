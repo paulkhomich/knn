{
 "cells": [
  {
   "cell_type": "markdown",
   "id": "f1b40af4",
   "metadata": {},
   "source": [
    "# Служебный код"
   ]
  },
  {
   "cell_type": "code",
   "execution_count": 148,
   "id": "c756e68e",
   "metadata": {},
   "outputs": [],
   "source": [
    "using CSV\n",
    "using DataFrames\n",
    "using Statistics\n",
    "using Distances"
   ]
  },
  {
   "cell_type": "code",
   "execution_count": 215,
   "id": "11f135ff",
   "metadata": {},
   "outputs": [
    {
     "data": {
      "text/plain": [
       "normalize (generic function with 2 methods)"
      ]
     },
     "execution_count": 215,
     "metadata": {},
     "output_type": "execute_result"
    }
   ],
   "source": [
    "# Min-Max нормализация\n",
    "function normalize(data)\n",
    "    si = size(data,2)\n",
    "    \n",
    "    mini = [minimum(data[:,i]) for i=1:si]\n",
    "    maxi = [maximum(data[:,i]) for i=1:si]\n",
    "    \n",
    "    for i in 1:size(data,1), j in 1:si\n",
    "        data[i,j] = (data[i,j] - mini[j])/(maxi[j] - mini[j]) \n",
    "    end\n",
    "    \n",
    "    data\n",
    "end"
   ]
  },
  {
   "cell_type": "code",
   "execution_count": 236,
   "id": "bb86189e",
   "metadata": {},
   "outputs": [
    {
     "data": {
      "text/plain": [
       "divide (generic function with 2 methods)"
      ]
     },
     "execution_count": 236,
     "metadata": {},
     "output_type": "execute_result"
    }
   ],
   "source": [
    "# Разделить на тренировочный и тестовый\n",
    "function divide(X, Y, prbl)\n",
    "    trainID = []\n",
    "    testID = []\n",
    "    \n",
    "    for i in 1:size(Y,1)\n",
    "        if (rand() <= prbl)\n",
    "            push!(trainID, i)\n",
    "        else\n",
    "            push!(testID, i)\n",
    "        end\n",
    "    end\n",
    "    \n",
    "    X[trainID,:], Y[trainID,:], X[testID,:], Y[testID,:]\n",
    "end"
   ]
  },
  {
   "cell_type": "code",
   "execution_count": 278,
   "id": "ed84302e",
   "metadata": {},
   "outputs": [
    {
     "data": {
      "text/plain": [
       "neighs (generic function with 1 method)"
      ]
     },
     "execution_count": 278,
     "metadata": {},
     "output_type": "execute_result"
    }
   ],
   "source": [
    "# Получить k соседей\n",
    "function neighs(el, X, Y, k, metric)\n",
    "    si = size(X,1)\n",
    "    \n",
    "    distances = zeros(Float64, si)\n",
    "    for i in 1:si\n",
    "       distances[i] = metric(el, X[i,:]) \n",
    "    end\n",
    "    \n",
    "    sortslices(hcat(distances,Y), dims=1)[1:k,:]\n",
    "end"
   ]
  },
  {
   "cell_type": "code",
   "execution_count": 389,
   "id": "2b485d07",
   "metadata": {},
   "outputs": [
    {
     "data": {
      "text/plain": [
       "decide (generic function with 1 method)"
      ]
     },
     "execution_count": 389,
     "metadata": {},
     "output_type": "execute_result"
    }
   ],
   "source": [
    "# Получить класс\n",
    "function decide(answers)\n",
    "    si = size(answers, 1)\n",
    "    h = maximum(answers[:,1])\n",
    "    d = Dict{Array{Any}, Float64}([])\n",
    "    \n",
    "    # Треугольное окно используется\n",
    "    for i in 1:si\n",
    "        d[answers[i,2:end]] = 0\n",
    "    end\n",
    "    for i in 1:si\n",
    "        d[answers[i,2:end]] += 1 - (answers[i,1]/h)\n",
    "    end\n",
    "    \n",
    "    maxi = -Inf\n",
    "    ans = Array{Float64}\n",
    "    for k in keys(d)\n",
    "        if (d[k] > maxi)\n",
    "            maxi = d[k]\n",
    "            ans = k\n",
    "        end\n",
    "    end\n",
    "        \n",
    "    ans\n",
    "end"
   ]
  },
  {
   "cell_type": "code",
   "execution_count": 426,
   "id": "fdbfb995",
   "metadata": {},
   "outputs": [],
   "source": [
    "struct knnmodel\n",
    "    X\n",
    "    Y\n",
    "end\n",
    "\n",
    "function (m::knnmodel)(data, k)\n",
    "    si = size(data,1)\n",
    "    data_y = Matrix{Float64}(undef,size(data,1),size(m.Y,2))\n",
    "    \n",
    "    for i in 1:si\n",
    "        ns = neighs(data[i,:], m.X, m.Y, k, Euclidean()) \n",
    "        data_y[i,:] = decide(ns)\n",
    "    end\n",
    "    \n",
    "    data_y\n",
    "end"
   ]
  },
  {
   "cell_type": "code",
   "execution_count": 603,
   "id": "71f5ebd1",
   "metadata": {},
   "outputs": [
    {
     "data": {
      "text/plain": [
       "quality (generic function with 1 method)"
      ]
     },
     "execution_count": 603,
     "metadata": {},
     "output_type": "execute_result"
    }
   ],
   "source": [
    "function quality(Y, predict)\n",
    "    TP = TN = FP = FN = 0\n",
    "    \n",
    "    for i in 1:size(Y,1)\n",
    "        comp = (Y[i,:]..., predict[i,:]...)\n",
    "        \n",
    "        if comp == (1.0,1.0)\n",
    "            TP += 1\n",
    "        elseif comp == (0.0,0.0)\n",
    "            TN += 1\n",
    "        elseif comp == (1.0,0.0)\n",
    "            FN += 1\n",
    "        else\n",
    "            FP += 1\n",
    "        end             \n",
    "    end\n",
    "    \n",
    "    TP, TN, FP, FN\n",
    "end"
   ]
  },
  {
   "cell_type": "markdown",
   "id": "593ce4a6",
   "metadata": {},
   "source": [
    "# Применение"
   ]
  },
  {
   "cell_type": "code",
   "execution_count": 553,
   "id": "3809810a",
   "metadata": {},
   "outputs": [
    {
     "data": {
      "text/plain": [
       "72983×34 Array{Any,2}:\n",
       "     1.0  0.0  \"12/7/2009\"   \"ADESA\"  …  33619.0  \"FL\"   7100.0  0.0  1113.0\n",
       "     2.0  0.0  \"12/7/2009\"   \"ADESA\"     33619.0  \"FL\"   7600.0  0.0  1053.0\n",
       "     3.0  0.0  \"12/7/2009\"   \"ADESA\"     33619.0  \"FL\"   4900.0  0.0  1389.0\n",
       "     4.0  0.0  \"12/7/2009\"   \"ADESA\"     33619.0  \"FL\"   4100.0  0.0   630.0\n",
       "     5.0  0.0  \"12/7/2009\"   \"ADESA\"     33619.0  \"FL\"   4000.0  0.0  1020.0\n",
       "     6.0  0.0  \"12/7/2009\"   \"ADESA\"  …  33619.0  \"FL\"   5600.0  0.0   594.0\n",
       "     7.0  0.0  \"12/7/2009\"   \"ADESA\"     33619.0  \"FL\"   4200.0  0.0   533.0\n",
       "     8.0  0.0  \"12/7/2009\"   \"ADESA\"     33619.0  \"FL\"   4500.0  0.0   825.0\n",
       "     9.0  0.0  \"12/7/2009\"   \"ADESA\"     33619.0  \"FL\"   5600.0  0.0   482.0\n",
       "    10.0  0.0  \"12/7/2009\"   \"ADESA\"     33619.0  \"FL\"   7700.0  0.0  1633.0\n",
       "    11.0  0.0  \"12/14/2009\"  \"ADESA\"  …  33619.0  \"FL\"   5500.0  0.0  1373.0\n",
       "    12.0  0.0  \"12/14/2009\"  \"ADESA\"     33619.0  \"FL\"   5300.0  0.0   869.0\n",
       "    13.0  1.0  \"12/14/2009\"  \"ADESA\"     33619.0  \"FL\"   5400.0  0.0  1623.0\n",
       "     ⋮                                ⋱           ⋮                   \n",
       " 73003.0  0.0  \"11/24/2009\"  \"ADESA\"     30212.0  \"GA\"   6000.0  0.0   482.0\n",
       " 73004.0  0.0  \"11/24/2009\"  \"ADESA\"     30212.0  \"GA\"  10400.0  0.0  1606.0\n",
       " 73005.0  0.0  \"11/24/2009\"  \"ADESA\"     30212.0  \"GA\"   7600.0  0.0  1215.0\n",
       " 73006.0  0.0  \"12/2/2009\"   \"ADESA\"     30212.0  \"GA\"   7500.0  0.0  1353.0\n",
       " 73007.0  0.0  \"12/2/2009\"   \"ADESA\"  …  30212.0  \"GA\"   8000.0  0.0   803.0\n",
       " 73008.0  0.0  \"12/2/2009\"   \"ADESA\"     30212.0  \"GA\"   7000.0  0.0  1243.0\n",
       " 73009.0  0.0  \"12/2/2009\"   \"ADESA\"     30212.0  \"GA\"   7900.0  0.0  1508.0\n",
       " 73010.0  1.0  \"12/2/2009\"   \"ADESA\"     30212.0  \"GA\"   4200.0  0.0   993.0\n",
       " 73011.0  0.0  \"12/2/2009\"   \"ADESA\"     30212.0  \"GA\"   6200.0  0.0  1038.0\n",
       " 73012.0  0.0  \"12/2/2009\"   \"ADESA\"  …  30212.0  \"GA\"   8200.0  0.0  1893.0\n",
       " 73013.0  0.0  \"12/2/2009\"   \"ADESA\"     30212.0  \"GA\"   7000.0  0.0  1974.0\n",
       " 73014.0  0.0  \"12/2/2009\"   \"ADESA\"     30212.0  \"GA\"   8000.0  0.0  1313.0"
      ]
     },
     "execution_count": 553,
     "metadata": {},
     "output_type": "execute_result"
    }
   ],
   "source": [
    "m = Matrix{Any}(CSV.read(\"./data.csv\", DataFrame,\n",
    "                                       silencewarnings=true,\n",
    "                                       typemap=Dict(Int => Float64), \n",
    "                                       types=Dict(\n",
    "                                            :MMRAcquisitionAuctionAveragePrice => Float64,\n",
    "                                            :MMRAcquisitionAuctionCleanPrice => Float64,\n",
    "                                            :MMRAcquisitionRetailAveragePrice => Float64,\n",
    "                                            :MMRAcquisitonRetailCleanPrice => Float64,\n",
    "                                            :MMRCurrentAuctionAveragePrice => Float64,\n",
    "                                            :MMRCurrentAuctionCleanPrice => Float64,\n",
    "                                            :MMRCurrentRetailAveragePrice => Float64,\n",
    "                                            :MMRCurrentRetailCleanPrice => Float64,\n",
    "                                       )))\n",
    "m = map((el) -> ismissing(el) ? 0 : el, m)"
   ]
  },
  {
   "cell_type": "code",
   "execution_count": 666,
   "id": "a988164d",
   "metadata": {},
   "outputs": [
    {
     "name": "stdout",
     "output_type": "stream",
     "text": [
      "[1, 2, 5, 6, 15, 19, 20, 21, 22, 23, 24, 25, 26, 29, 30, 32, 33, 34]\n"
     ]
    },
    {
     "data": {
      "text/plain": [
       "72983×14 Array{Float64,2}:\n",
       " 3.0  89046.0   8155.0   9829.0  …  21973.0  33619.0   7100.0  1113.0\n",
       " 5.0  93593.0   6854.0   8383.0     19638.0  33619.0   7600.0  1053.0\n",
       " 4.0  73807.0   3202.0   4760.0     19638.0  33619.0   4900.0  1389.0\n",
       " 5.0  65617.0   1893.0   2675.0     19638.0  33619.0   4100.0   630.0\n",
       " 4.0  69367.0   3913.0   5054.0     19638.0  33619.0   4000.0  1020.0\n",
       " 5.0  81054.0   3901.0   4908.0  …  19638.0  33619.0   5600.0   594.0\n",
       " 5.0  65328.0   2966.0   4038.0     19638.0  33619.0   4200.0   533.0\n",
       " 4.0  65805.0   3313.0   4342.0     19638.0  33619.0   4500.0   825.0\n",
       " 2.0  49921.0   6196.0   7274.0     21973.0  33619.0   5600.0   482.0\n",
       " 2.0  84872.0   7845.0   9752.0     21973.0  33619.0   7700.0  1633.0\n",
       " 4.0  80080.0   5243.0   6627.0  …   5546.0  33619.0   5500.0  1373.0\n",
       " 8.0  75419.0   3168.0   4320.0      5546.0  33619.0   5300.0   869.0\n",
       " 4.0  79315.0   4225.0   5380.0     19638.0  33619.0   5400.0  1623.0\n",
       " ⋮                               ⋱      ⋮                      \n",
       " 2.0  44622.0   6204.0   7390.0     18881.0  30212.0   6000.0   482.0\n",
       " 3.0  69941.0  12195.0  13568.0     18111.0  30212.0  10400.0  1606.0\n",
       " 3.0  68127.0   8929.0  10605.0     18111.0  30212.0   7600.0  1215.0\n",
       " 7.0  93744.0   5485.0   6823.0     18111.0  30212.0   7500.0  1353.0\n",
       " 2.0  74407.0   7712.0   9614.0  …  18111.0  30212.0   8000.0   803.0\n",
       " 5.0  82563.0   4668.0   5714.0     18881.0  30212.0   7000.0  1243.0\n",
       " 3.0  65399.0   7843.0   9171.0     18111.0  30212.0   7900.0  1508.0\n",
       " 8.0  45234.0   1996.0   2993.0     18111.0  30212.0   4200.0   993.0\n",
       " 2.0  71759.0   6418.0   7325.0     18881.0  30212.0   6200.0  1038.0\n",
       " 4.0  88500.0   8545.0   9959.0  …  18111.0  30212.0   8200.0  1893.0\n",
       " 3.0  79554.0   6420.0   7604.0     18881.0  30212.0   7000.0  1974.0\n",
       " 3.0  66855.0   7535.0   8771.0     18111.0  30212.0   8000.0  1313.0"
      ]
     },
     "execution_count": 666,
     "metadata": {},
     "output_type": "execute_result"
    }
   ],
   "source": [
    "# Оставим только нужные данные\n",
    "# 5,6,15,29,30,32,33,34\n",
    "println(filter(el -> typeof(m[1,el]) <: Number, 1:34))\n",
    "Y = Matrix{Float64}(m[:,[2]])\n",
    "X = Matrix{Float64}(m[:,[6,15,19,20,21,22,23,24,25,26,29,30,32,34]])"
   ]
  },
  {
   "cell_type": "code",
   "execution_count": 667,
   "id": "49a3f8b7",
   "metadata": {},
   "outputs": [
    {
     "data": {
      "text/plain": [
       "72983×14 Array{Float64,2}:\n",
       " 0.333333  0.759487  0.228291   0.266665   …  0.319874  0.156132   0.0925242\n",
       " 0.555556  0.800491  0.191871   0.227434      0.319874  0.167129   0.0839966\n",
       " 0.444444  0.622065  0.0896366  0.129141      0.319874  0.107746   0.131751\n",
       " 0.555556  0.548209  0.0529926  0.0725739     0.319874  0.0901513  0.0238772\n",
       " 0.444444  0.582026  0.10954    0.137117      0.319874  0.087952   0.0793064\n",
       " 0.555556  0.687417  0.109204   0.133156   …  0.319874  0.123142   0.0187607\n",
       " 0.555556  0.545603  0.0830301  0.109553      0.319874  0.0923507  0.010091\n",
       " 0.444444  0.549904  0.092744   0.1178        0.319874  0.0989487  0.0515918\n",
       " 0.222222  0.406666  0.173451   0.197347      0.319874  0.123142   0.00284252\n",
       " 0.222222  0.721846  0.219613   0.264576      0.319874  0.169328   0.16643\n",
       " 0.444444  0.678633  0.146772   0.179793   …  0.319874  0.120942   0.129477\n",
       " 0.888889  0.636601  0.0886848  0.117203      0.319874  0.116544   0.0578454\n",
       " 0.444444  0.671735  0.118274   0.145962      0.319874  0.118743   0.165009\n",
       " ⋮                                         ⋱                       \n",
       " 0.222222  0.358881  0.173674   0.200494      0.284553  0.131939   0.00284252\n",
       " 0.333333  0.587202  0.341386   0.368105      0.284553  0.22871    0.162592\n",
       " 0.333333  0.570844  0.249958   0.287718      0.284553  0.167129   0.107021\n",
       " 0.777778  0.801852  0.153547   0.185111      0.284553  0.164929   0.126634\n",
       " 0.222222  0.627475  0.215889   0.260832   …  0.284553  0.175926   0.048465\n",
       " 0.555556  0.701024  0.130676   0.155023      0.284553  0.153932   0.111001\n",
       " 0.333333  0.546243  0.219557   0.248813      0.284553  0.173727   0.148664\n",
       " 0.888889  0.3644    0.0558759  0.0812013     0.284553  0.0923507  0.075469\n",
       " 0.222222  0.603596  0.179665   0.19873       0.284553  0.136338   0.0818647\n",
       " 0.444444  0.754563  0.239208   0.270192   …  0.284553  0.180325   0.203383\n",
       " 0.333333  0.67389   0.179721   0.2063        0.284553  0.153932   0.214895\n",
       " 0.333333  0.559373  0.210934   0.237961      0.284553  0.175926   0.120949"
      ]
     },
     "execution_count": 667,
     "metadata": {},
     "output_type": "execute_result"
    }
   ],
   "source": [
    "# Нормализуем признаки\n",
    "normalize(X)"
   ]
  },
  {
   "cell_type": "code",
   "execution_count": 668,
   "id": "2d1aecfd",
   "metadata": {},
   "outputs": [
    {
     "data": {
      "text/plain": [
       "([0.5555555555555556 0.8004905673989107 … 0.16712852995513328 0.08399658897100626; 0.4444444444444444 0.6220647116112975 … 0.10774610715228293 0.1317509948834565; … ; 0.3333333333333333 0.6738899109043033 … 0.15393243599894432 0.21489482660602616; 0.3333333333333333 0.559373083721098 … 0.17592592592592593 0.12094940306992609], [0.0; 0.0; … ; 0.0; 0.0], [0.3333333333333333 0.7594867077877575 … 0.15613178499164249 0.09252416145537237; 0.3333333333333333 0.6303159831187101 … 0.15173308700624616 0.16500852757248435; … ; 0.3333333333333333 0.5708437037838617 … 0.16712852995513328 0.10702103467879477; 0.4444444444444444 0.7545629982325145 … 0.18032462391132226 0.20338260375213188], [0.0; 0.0; … ; 0.0; 0.0])"
      ]
     },
     "execution_count": 668,
     "metadata": {},
     "output_type": "execute_result"
    }
   ],
   "source": [
    "# Разделим множества на тренировочное и тестовое\n",
    "X_train, Y_train, X_test, Y_test = divide(X, Y, 0.8)"
   ]
  },
  {
   "cell_type": "code",
   "execution_count": 669,
   "id": "c4d2007a",
   "metadata": {},
   "outputs": [
    {
     "data": {
      "text/plain": [
       "knnmodel([0.5555555555555556 0.8004905673989107 … 0.16712852995513328 0.08399658897100626; 0.4444444444444444 0.6220647116112975 … 0.10774610715228293 0.1317509948834565; … ; 0.3333333333333333 0.6738899109043033 … 0.15393243599894432 0.21489482660602616; 0.3333333333333333 0.559373083721098 … 0.17592592592592593 0.12094940306992609], [0.0; 0.0; … ; 0.0; 0.0])"
      ]
     },
     "execution_count": 669,
     "metadata": {},
     "output_type": "execute_result"
    }
   ],
   "source": [
    "# Создадим модель над тренировочными данными\n",
    "model = knnmodel(X_train,Y_train)"
   ]
  },
  {
   "cell_type": "code",
   "execution_count": 670,
   "id": "d6777564",
   "metadata": {},
   "outputs": [
    {
     "data": {
      "text/plain": [
       "(7, 235, 31, 27)"
      ]
     },
     "execution_count": 670,
     "metadata": {},
     "output_type": "execute_result"
    }
   ],
   "source": [
    "# Предсказание на тестовых данных\n",
    "predict = model(X_test[1:300,:], 3)\n",
    "TP, TN, FP, FN = quality(Y_test[1:300,:], predict)"
   ]
  },
  {
   "cell_type": "code",
   "execution_count": 671,
   "id": "e2d79038",
   "metadata": {},
   "outputs": [
    {
     "name": "stdout",
     "output_type": "stream",
     "text": [
      "Accuracy: 0.8066666666666666\n",
      "Error: 0.15000000000000002\n",
      "Precision: 0.18421052631578946\n"
     ]
    }
   ],
   "source": [
    "# Оценки\n",
    "_accuracy = (TP+TN)/(TP+TN+FP+FN)\n",
    "_error = 1 - _accuracy\n",
    "_precision = TP/(TP+FP)\n",
    "\n",
    "println(\"Accuracy: \", _accuracy, \"\\nError: \", _error, \"\\nPrecision: \", _precision)"
   ]
  },
  {
   "cell_type": "code",
   "execution_count": null,
   "id": "f1bffbac",
   "metadata": {},
   "outputs": [],
   "source": []
  }
 ],
 "metadata": {
  "kernelspec": {
   "display_name": "Julia 1.5.3",
   "language": "julia",
   "name": "julia-1.5"
  },
  "language_info": {
   "file_extension": ".jl",
   "mimetype": "application/julia",
   "name": "julia",
   "version": "1.5.3"
  }
 },
 "nbformat": 4,
 "nbformat_minor": 5
}
