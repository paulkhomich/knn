{
 "cells": [
  {
   "cell_type": "markdown",
   "id": "afb1e028",
   "metadata": {},
   "source": [
    "# Дерево решений"
   ]
  },
  {
   "cell_type": "markdown",
   "id": "ec5a3fae",
   "metadata": {},
   "source": [
    "### Служебный код"
   ]
  },
  {
   "cell_type": "code",
   "execution_count": 545,
   "id": "0c351caa",
   "metadata": {},
   "outputs": [],
   "source": [
    "using CSV\n",
    "using DataFrames\n",
    "using Statistics\n",
    "using DecisionTree"
   ]
  },
  {
   "cell_type": "code",
   "execution_count": 546,
   "id": "ba94ba01",
   "metadata": {},
   "outputs": [
    {
     "data": {
      "text/plain": [
       "ty (generic function with 2 methods)"
      ]
     },
     "execution_count": 546,
     "metadata": {},
     "output_type": "execute_result"
    }
   ],
   "source": [
    "# Числовые и строковые признаки\n",
    "function ty(m)\n",
    "    nu = filter(i -> typeof(m[1,i]) <: Number, 1:size(m,2))\n",
    "    st = filter(i -> !(i in nu), 1:size(m,2))\n",
    "    \n",
    "    nu, st\n",
    "end"
   ]
  },
  {
   "cell_type": "code",
   "execution_count": 547,
   "id": "c68bc10b",
   "metadata": {},
   "outputs": [
    {
     "data": {
      "text/plain": [
       "divide (generic function with 1 method)"
      ]
     },
     "execution_count": 547,
     "metadata": {},
     "output_type": "execute_result"
    }
   ],
   "source": [
    "# Разделить на тренировочный и тестовый\n",
    "function divide(X, Y, prbl)\n",
    "    trainID = []\n",
    "    testID = []\n",
    "    \n",
    "    for i in 1:size(Y,1)\n",
    "        if (rand() <= prbl)\n",
    "            push!(trainID, i)\n",
    "        else\n",
    "            push!(testID, i)\n",
    "        end\n",
    "    end\n",
    "    \n",
    "    X[trainID,:], Y[trainID,:], X[testID,:], Y[testID,:]\n",
    "end"
   ]
  },
  {
   "cell_type": "code",
   "execution_count": 548,
   "id": "c706254d",
   "metadata": {},
   "outputs": [
    {
     "data": {
      "text/plain": [
       "normalize (generic function with 1 method)"
      ]
     },
     "execution_count": 548,
     "metadata": {},
     "output_type": "execute_result"
    }
   ],
   "source": [
    "# Min-Max нормализация\n",
    "function normalize(data)\n",
    "    si = size(data,2)\n",
    "    \n",
    "    mini = [minimum(data[:,i]) for i=1:si]\n",
    "    maxi = [maximum(data[:,i]) for i=1:si]\n",
    "    \n",
    "    for i in 1:size(data,1), j in 1:si\n",
    "        data[i,j] = (data[i,j] - mini[j])/(maxi[j] - mini[j]) \n",
    "    end\n",
    "    \n",
    "    data\n",
    "end"
   ]
  },
  {
   "cell_type": "code",
   "execution_count": 586,
   "id": "8201ab8f",
   "metadata": {},
   "outputs": [
    {
     "data": {
      "text/plain": [
       "quality (generic function with 2 methods)"
      ]
     },
     "execution_count": 586,
     "metadata": {},
     "output_type": "execute_result"
    }
   ],
   "source": [
    "function quality(Y, predict, prbl)\n",
    "    TP = TN = FP = FN = 0\n",
    "    \n",
    "    for i in 1:size(Y,1)\n",
    "        comp = (Y[i,:]..., predict[i,:][1] > prbl ? 1.0 : 0.0)\n",
    "        \n",
    "        if comp == (1.0,1.0)\n",
    "            TP += 1\n",
    "        elseif comp == (0.0,0.0)\n",
    "            TN += 1\n",
    "        elseif comp == (1.0,0.0)\n",
    "            FN += 1\n",
    "        else\n",
    "            FP += 1\n",
    "        end             \n",
    "    end\n",
    "    \n",
    "    TP, TN, FP, FN\n",
    "end"
   ]
  },
  {
   "cell_type": "markdown",
   "id": "7cacf4db",
   "metadata": {},
   "source": [
    "### Подготовка данных"
   ]
  },
  {
   "cell_type": "code",
   "execution_count": 550,
   "id": "a81dd2a4",
   "metadata": {},
   "outputs": [
    {
     "data": {
      "text/plain": [
       "72983×34 Array{Any,2}:\n",
       "     1.0  0.0  \"12/7/2009\"   \"ADESA\"  …  33619.0  \"FL\"   7100.0  0.0  1113.0\n",
       "     2.0  0.0  \"12/7/2009\"   \"ADESA\"     33619.0  \"FL\"   7600.0  0.0  1053.0\n",
       "     3.0  0.0  \"12/7/2009\"   \"ADESA\"     33619.0  \"FL\"   4900.0  0.0  1389.0\n",
       "     4.0  0.0  \"12/7/2009\"   \"ADESA\"     33619.0  \"FL\"   4100.0  0.0   630.0\n",
       "     5.0  0.0  \"12/7/2009\"   \"ADESA\"     33619.0  \"FL\"   4000.0  0.0  1020.0\n",
       "     6.0  0.0  \"12/7/2009\"   \"ADESA\"  …  33619.0  \"FL\"   5600.0  0.0   594.0\n",
       "     7.0  0.0  \"12/7/2009\"   \"ADESA\"     33619.0  \"FL\"   4200.0  0.0   533.0\n",
       "     8.0  0.0  \"12/7/2009\"   \"ADESA\"     33619.0  \"FL\"   4500.0  0.0   825.0\n",
       "     9.0  0.0  \"12/7/2009\"   \"ADESA\"     33619.0  \"FL\"   5600.0  0.0   482.0\n",
       "    10.0  0.0  \"12/7/2009\"   \"ADESA\"     33619.0  \"FL\"   7700.0  0.0  1633.0\n",
       "    11.0  0.0  \"12/14/2009\"  \"ADESA\"  …  33619.0  \"FL\"   5500.0  0.0  1373.0\n",
       "    12.0  0.0  \"12/14/2009\"  \"ADESA\"     33619.0  \"FL\"   5300.0  0.0   869.0\n",
       "    13.0  1.0  \"12/14/2009\"  \"ADESA\"     33619.0  \"FL\"   5400.0  0.0  1623.0\n",
       "     ⋮                                ⋱           ⋮                   \n",
       " 73003.0  0.0  \"11/24/2009\"  \"ADESA\"     30212.0  \"GA\"   6000.0  0.0   482.0\n",
       " 73004.0  0.0  \"11/24/2009\"  \"ADESA\"     30212.0  \"GA\"  10400.0  0.0  1606.0\n",
       " 73005.0  0.0  \"11/24/2009\"  \"ADESA\"     30212.0  \"GA\"   7600.0  0.0  1215.0\n",
       " 73006.0  0.0  \"12/2/2009\"   \"ADESA\"     30212.0  \"GA\"   7500.0  0.0  1353.0\n",
       " 73007.0  0.0  \"12/2/2009\"   \"ADESA\"  …  30212.0  \"GA\"   8000.0  0.0   803.0\n",
       " 73008.0  0.0  \"12/2/2009\"   \"ADESA\"     30212.0  \"GA\"   7000.0  0.0  1243.0\n",
       " 73009.0  0.0  \"12/2/2009\"   \"ADESA\"     30212.0  \"GA\"   7900.0  0.0  1508.0\n",
       " 73010.0  1.0  \"12/2/2009\"   \"ADESA\"     30212.0  \"GA\"   4200.0  0.0   993.0\n",
       " 73011.0  0.0  \"12/2/2009\"   \"ADESA\"     30212.0  \"GA\"   6200.0  0.0  1038.0\n",
       " 73012.0  0.0  \"12/2/2009\"   \"ADESA\"  …  30212.0  \"GA\"   8200.0  0.0  1893.0\n",
       " 73013.0  0.0  \"12/2/2009\"   \"ADESA\"     30212.0  \"GA\"   7000.0  0.0  1974.0\n",
       " 73014.0  0.0  \"12/2/2009\"   \"ADESA\"     30212.0  \"GA\"   8000.0  0.0  1313.0"
      ]
     },
     "execution_count": 550,
     "metadata": {},
     "output_type": "execute_result"
    }
   ],
   "source": [
    "# Получим данные\n",
    "m = Matrix{Any}(CSV.read(\"./data.csv\", DataFrame,\n",
    "                                       silencewarnings=true,\n",
    "                                       typemap=Dict(Int => Float64), \n",
    "                                       types=Dict(\n",
    "                                            :MMRAcquisitionAuctionAveragePrice => Float64,\n",
    "                                            :MMRAcquisitionAuctionCleanPrice => Float64,\n",
    "                                            :MMRAcquisitionRetailAveragePrice => Float64,\n",
    "                                            :MMRAcquisitonRetailCleanPrice => Float64,\n",
    "                                            :MMRCurrentAuctionAveragePrice => Float64,\n",
    "                                            :MMRCurrentAuctionCleanPrice => Float64,\n",
    "                                            :MMRCurrentRetailAveragePrice => Float64,\n",
    "                                            :MMRCurrentRetailCleanPrice => Float64,\n",
    "                                       )))"
   ]
  },
  {
   "cell_type": "code",
   "execution_count": 551,
   "id": "2f1814dc",
   "metadata": {},
   "outputs": [
    {
     "name": "stdout",
     "output_type": "stream",
     "text": [
      "Number: [1, 2, 5, 6, 15, 19, 20, 21, 22, 23, 24, 25, 26, 29, 30, 32, 33, 34]\n",
      "String: [3, 4, 7, 8, 9, 10, 11, 12, 13, 14, 16, 17, 18, 27, 28, 31]\n"
     ]
    }
   ],
   "source": [
    "# Числовой и строковый признаки\n",
    "nu, st = ty(m)\n",
    "println(\"Number: \", nu)\n",
    "println(\"String: \", st)"
   ]
  },
  {
   "cell_type": "code",
   "execution_count": 552,
   "id": "5eafa77c",
   "metadata": {},
   "outputs": [
    {
     "name": "stdout",
     "output_type": "stream",
     "text": [
      "[0, 0, 0, 0, 0, 0, 0, 0, 2360, 0, 0, 1, 0, 0, 0, 0, 0, 0, 18, 18, 18, 18, 315, 315, 315, 315, 0, 0, 0, 0, 0, 0, 0, 0]\n"
     ]
    }
   ],
   "source": [
    "# Сколько missing в каждом признаке\n",
    "println(map(i -> count(ismissing, m[:,i]), 1:34))"
   ]
  },
  {
   "cell_type": "code",
   "execution_count": 553,
   "id": "066e664f",
   "metadata": {},
   "outputs": [],
   "source": [
    "# Уберем строковые, где есть missing\n",
    "for i in 1:size(m,2)\n",
    "    good = filter(j -> !ismissing(m[j,i]), 1:size(m,1))\n",
    "    m = m[good,:]\n",
    "end"
   ]
  },
  {
   "cell_type": "code",
   "execution_count": 554,
   "id": "bd2087f4",
   "metadata": {},
   "outputs": [
    {
     "name": "stdout",
     "output_type": "stream",
     "text": [
      "[0, 0, 0, 0, 0, 0, 0, 0, 0, 0, 0, 0, 0, 0, 0, 0, 0, 0, 0, 0, 0, 0, 0, 0, 0, 0, 0, 0, 0, 0, 0, 0, 0, 0]\n"
     ]
    }
   ],
   "source": [
    "# Сколько missing в каждом признаке\n",
    "println(map(i -> count(ismissing, m[:,i]), 1:34))"
   ]
  },
  {
   "cell_type": "code",
   "execution_count": 555,
   "id": "251f5469",
   "metadata": {},
   "outputs": [],
   "source": [
    "# Строки в lowercase\n",
    "for i in st\n",
    "    m[:,i] .= lowercase.(m[:,i])\n",
    "end"
   ]
  },
  {
   "cell_type": "code",
   "execution_count": 556,
   "id": "1c7bc1a0",
   "metadata": {},
   "outputs": [
    {
     "name": "stdout",
     "output_type": "stream",
     "text": [
      "Union{Nothing, Float64}[36444.43948854343, 0.1218905118832582, nothing, nothing, 2005.3385199618826, 4.181982392012403, nothing, nothing, nothing, nothing, nothing, nothing, nothing, nothing, 71776.3720576313, nothing, nothing, nothing, 6146.529576583368, 7395.145045442262, 8519.762178383991, 9876.290602910012, 6150.024591446329, 7411.158244321495, 8794.852493990811, 10165.245658450554, nothing, nothing, 26440.454635964103, 58187.67026980899, nothing, 6741.92791520289, 0.02554438265371432, 1279.4481076391357]\n"
     ]
    }
   ],
   "source": [
    "# Подсчет средних значений числовых данных (без missing)\n",
    "meanval = map(i -> typeof(m[1,i]) <: Number ? mean(filter(el -> !ismissing(el), m[:,i])) : nothing, 1:size(m,2))\n",
    "println(meanval)"
   ]
  },
  {
   "cell_type": "code",
   "execution_count": 557,
   "id": "a6ae858b",
   "metadata": {},
   "outputs": [
    {
     "name": "stdout",
     "output_type": "stream",
     "text": [
      "0\tcol: 3\n",
      "0\tcol: 4\n",
      "0\tcol: 7\n",
      "0\tcol: 8\n",
      "0\tcol: 9\n",
      "7\tcol: 10\n",
      "7\tcol: 11\n",
      "7\tcol: 12\n",
      "3033\tcol: 13\n",
      "3038\tcol: 14\n",
      "1\tcol: 16\n",
      "1\tcol: 17\n",
      "1\tcol: 18\n",
      "67011\tcol: 27\n",
      "67011\tcol: 28\n",
      "0\tcol: 31\n"
     ]
    },
    {
     "data": {
      "text/plain": [
       "1"
      ]
     },
     "execution_count": 557,
     "metadata": {},
     "output_type": "execute_result"
    }
   ],
   "source": [
    "# Сколько null в строковых данных?\n",
    "# Уберем признаки, где все забито null, а также некоторые неинформативные\n",
    "for i in st\n",
    "   println(count(el->el==\"null\", m[:,i]), \"\\tcol: \", i) \n",
    "end\n",
    "\n",
    "m = m[:,filter(i -> !(i in [1,3,4,13,14,27,28]), 1:size(m,2))]\n",
    "nu, st = ty(m)\n",
    "1"
   ]
  },
  {
   "cell_type": "code",
   "execution_count": 558,
   "id": "5ed66d12",
   "metadata": {},
   "outputs": [],
   "source": [
    "# Уберем записи с оставшимися null\n",
    "for i in st\n",
    "    good = filter(j -> m[j,i] != \"null\", 1:size(m,1))\n",
    "    m = m[good,:]\n",
    "end"
   ]
  },
  {
   "cell_type": "code",
   "execution_count": 559,
   "id": "8ab3feac",
   "metadata": {},
   "outputs": [
    {
     "name": "stdout",
     "output_type": "stream",
     "text": [
      "32\t:4\n",
      "962\t:5\n",
      "133\t:6\n",
      "834\t:7\n",
      "16\t:8\n",
      "2\t:9\n",
      "4\t:11\n",
      "12\t:12\n",
      "4\t:13\n",
      "37\t:24\n"
     ]
    }
   ],
   "source": [
    "# Посмотрим количество различных строковых значений\n",
    "for i in st\n",
    "   println(size(unique(m[:,i]),1), \"\\t:\", i) \n",
    "end"
   ]
  },
  {
   "cell_type": "code",
   "execution_count": 560,
   "id": "14b3a234",
   "metadata": {},
   "outputs": [
    {
     "data": {
      "text/plain": [
       "([1, 2, 3, 10, 14, 15, 16, 17, 18, 19  …  88, 89, 90, 91, 92, 93, 94, 95, 96, 97], [4, 5, 6, 7, 8, 9, 11, 12, 13, 24])"
      ]
     },
     "execution_count": 560,
     "metadata": {},
     "output_type": "execute_result"
    }
   ],
   "source": [
    "# Переведем некоторые строковые признаки в n булевых числовых признаков\n",
    "for i in filter(i->size(unique(m[:,i]),1)<=32, st)\n",
    "    un = unique(m[:,i]) # Уникальные элементы\n",
    "    for j in 1:size(un,1)\n",
    "        mask = map(el -> el == un[j] ? 1.0 : 0.0, m[:,i])\n",
    "        m = hcat(m, mask)\n",
    "    end\n",
    "end\n",
    "\n",
    "nu, st = ty(m)"
   ]
  },
  {
   "cell_type": "code",
   "execution_count": 569,
   "id": "977e2112",
   "metadata": {},
   "outputs": [
    {
     "data": {
      "text/plain": [
       "70301×86 Array{Float64,2}:\n",
       " 0.555556  0.333333  0.759487  …  0.0  0.0  0.0  1.0  0.0  0.0  0.0\n",
       " 0.333333  0.555556  0.800491     0.0  0.0  0.0  0.0  1.0  0.0  0.0\n",
       " 0.444444  0.444444  0.622065     0.0  0.0  0.0  0.0  1.0  0.0  0.0\n",
       " 0.333333  0.555556  0.548209     0.0  0.0  0.0  0.0  1.0  0.0  0.0\n",
       " 0.444444  0.444444  0.582026     0.0  0.0  0.0  0.0  0.0  1.0  0.0\n",
       " 0.333333  0.555556  0.687417  …  0.0  0.0  0.0  1.0  0.0  0.0  0.0\n",
       " 0.333333  0.555556  0.545603     0.0  0.0  0.0  1.0  0.0  0.0  0.0\n",
       " 0.444444  0.444444  0.549904     0.0  0.0  0.0  0.0  0.0  1.0  0.0\n",
       " 0.666667  0.222222  0.406666     0.0  0.0  0.0  1.0  0.0  0.0  0.0\n",
       " 0.666667  0.222222  0.721846     0.0  0.0  0.0  0.0  0.0  1.0  0.0\n",
       " 0.444444  0.444444  0.678633  …  0.0  0.0  0.0  0.0  0.0  0.0  1.0\n",
       " 0.0       0.888889  0.636601     0.0  0.0  0.0  0.0  0.0  1.0  0.0\n",
       " 0.444444  0.444444  0.671735     0.0  0.0  0.0  0.0  1.0  0.0  0.0\n",
       " ⋮                             ⋱       ⋮                        ⋮\n",
       " 0.666667  0.222222  0.358881     0.0  0.0  0.0  1.0  0.0  0.0  0.0\n",
       " 0.555556  0.333333  0.587202  …  0.0  0.0  0.0  0.0  1.0  0.0  0.0\n",
       " 0.555556  0.333333  0.570844     0.0  0.0  0.0  0.0  1.0  0.0  0.0\n",
       " 0.111111  0.777778  0.801852     0.0  0.0  0.0  0.0  1.0  0.0  0.0\n",
       " 0.666667  0.222222  0.627475     0.0  0.0  0.0  1.0  0.0  0.0  0.0\n",
       " 0.333333  0.555556  0.701024     0.0  0.0  0.0  0.0  0.0  1.0  0.0\n",
       " 0.555556  0.333333  0.546243  …  0.0  0.0  0.0  1.0  0.0  0.0  0.0\n",
       " 0.0       0.888889  0.3644       0.0  0.0  0.0  0.0  0.0  1.0  0.0\n",
       " 0.666667  0.222222  0.603596     0.0  0.0  0.0  0.0  0.0  0.0  1.0\n",
       " 0.444444  0.444444  0.754563     0.0  0.0  0.0  0.0  1.0  0.0  0.0\n",
       " 0.555556  0.333333  0.67389      0.0  0.0  0.0  0.0  0.0  0.0  1.0\n",
       " 0.555556  0.333333  0.559373  …  0.0  0.0  0.0  1.0  0.0  0.0  0.0"
      ]
     },
     "execution_count": 569,
     "metadata": {},
     "output_type": "execute_result"
    }
   ],
   "source": [
    "# Отберем только числовые признаки\n",
    "X = Matrix{Float64}(m[:,nu][:,2:end])\n",
    "Y = Vector{Float64}(m[:,1])\n",
    "# Нормализуем признаки\n",
    "X = normalize(X)"
   ]
  },
  {
   "cell_type": "markdown",
   "id": "8be35cfc",
   "metadata": {},
   "source": [
    "### Применение"
   ]
  },
  {
   "cell_type": "code",
   "execution_count": 577,
   "id": "92997883",
   "metadata": {},
   "outputs": [
    {
     "data": {
      "text/plain": [
       "34925-element Array{Float64,1}:\n",
       " 0.0\n",
       " 0.0\n",
       " 0.0\n",
       " 0.0\n",
       " 1.0\n",
       " 0.0\n",
       " 0.0\n",
       " 0.0\n",
       " 0.0\n",
       " 0.0\n",
       " 0.0\n",
       " 0.0\n",
       " 0.0\n",
       " ⋮\n",
       " 0.0\n",
       " 0.0\n",
       " 0.0\n",
       " 0.0\n",
       " 0.0\n",
       " 0.0\n",
       " 0.0\n",
       " 0.0\n",
       " 0.0\n",
       " 0.0\n",
       " 0.0\n",
       " 0.0"
      ]
     },
     "execution_count": 577,
     "metadata": {},
     "output_type": "execute_result"
    }
   ],
   "source": [
    "# Разделим множества на тренировочное и тестовое\n",
    "X_train, Y_train, X_test, Y_test = divide(X, Y, 0.5)\n",
    "Y_train = Vector{Float64}(Y_train[:,1])\n",
    "Y_test = Vector{Float64}(Y_test[:,1])"
   ]
  },
  {
   "cell_type": "code",
   "execution_count": 578,
   "id": "cee7bfd5",
   "metadata": {},
   "outputs": [
    {
     "data": {
      "text/plain": [
       "Decision Tree\n",
       "Leaves: 2441\n",
       "Depth:  38"
      ]
     },
     "execution_count": 578,
     "metadata": {},
     "output_type": "execute_result"
    }
   ],
   "source": [
    "model = build_tree(Y_train, X_train)"
   ]
  },
  {
   "cell_type": "code",
   "execution_count": 579,
   "id": "82c6c970",
   "metadata": {},
   "outputs": [
    {
     "data": {
      "text/plain": [
       "Decision Tree\n",
       "Leaves: 1959\n",
       "Depth:  38"
      ]
     },
     "execution_count": 579,
     "metadata": {},
     "output_type": "execute_result"
    }
   ],
   "source": [
    "model = prune_tree(model, 0.9)"
   ]
  },
  {
   "cell_type": "code",
   "execution_count": 581,
   "id": "90949296",
   "metadata": {},
   "outputs": [
    {
     "name": "stdout",
     "output_type": "stream",
     "text": [
      "Feature 2, Threshold 0.5\n",
      "L-> Feature 14, Threshold 0.1382620744259699\n",
      "    L-> Feature 12, Threshold 0.523724804399248\n",
      "        L-> \n",
      "        R-> \n",
      "    R-> Feature 4, Threshold 0.5088180952914171\n",
      "        L-> \n",
      "        R-> \n",
      "R-> Feature 14, Threshold 0.10142297879827572\n",
      "    L-> Feature 2, Threshold 0.7222222222222222\n",
      "        L-> \n",
      "        R-> \n",
      "    R-> Feature 3, Threshold 0.6207436063918046\n",
      "        L-> \n",
      "        R-> \n"
     ]
    }
   ],
   "source": [
    "print_tree(model, 3)"
   ]
  },
  {
   "cell_type": "code",
   "execution_count": 582,
   "id": "e3111133",
   "metadata": {},
   "outputs": [
    {
     "data": {
      "text/plain": [
       "34925-element Array{Float64,1}:\n",
       " 0.0\n",
       " 0.0\n",
       " 0.0\n",
       " 0.0\n",
       " 0.0\n",
       " 0.4\n",
       " 0.0\n",
       " 0.6666666666666666\n",
       " 0.0\n",
       " 0.0\n",
       " 0.0\n",
       " 0.0\n",
       " 0.0\n",
       " ⋮\n",
       " 0.0\n",
       " 0.0\n",
       " 0.16666666666666666\n",
       " 0.8888888888888888\n",
       " 0.0\n",
       " 0.0\n",
       " 0.0\n",
       " 0.0\n",
       " 0.8\n",
       " 0.0\n",
       " 0.0\n",
       " 0.0"
      ]
     },
     "execution_count": 582,
     "metadata": {},
     "output_type": "execute_result"
    }
   ],
   "source": [
    "predict = apply_tree(model, X_test[:,:])"
   ]
  },
  {
   "cell_type": "code",
   "execution_count": 592,
   "id": "fed1f0a7",
   "metadata": {},
   "outputs": [
    {
     "data": {
      "text/plain": [
       "(1024, 25697, 4957, 3247)"
      ]
     },
     "execution_count": 592,
     "metadata": {},
     "output_type": "execute_result"
    }
   ],
   "source": [
    "TP, TN, FP, FN = quality(Y_test[:,:], predict, 0.3)"
   ]
  },
  {
   "cell_type": "code",
   "execution_count": 589,
   "id": "77add662",
   "metadata": {},
   "outputs": [
    {
     "name": "stdout",
     "output_type": "stream",
     "text": [
      "Accuracy: 0.7650966356478167\n",
      "Error: 0.23490336435218329\n",
      "Precision: 0.17120882795519143\n"
     ]
    }
   ],
   "source": [
    "# Оценки\n",
    "_accuracy = (TP+TN)/(TP+TN+FP+FN)\n",
    "_error = 1 - _accuracy\n",
    "_precision = TP/(TP+FP)\n",
    "\n",
    "println(\"Accuracy: \", _accuracy, \"\\nError: \", _error, \"\\nPrecision: \", _precision)"
   ]
  },
  {
   "cell_type": "code",
   "execution_count": null,
   "id": "a8a477a1",
   "metadata": {},
   "outputs": [],
   "source": []
  }
 ],
 "metadata": {
  "kernelspec": {
   "display_name": "Julia 1.5.3",
   "language": "julia",
   "name": "julia-1.5"
  },
  "language_info": {
   "file_extension": ".jl",
   "mimetype": "application/julia",
   "name": "julia",
   "version": "1.5.3"
  }
 },
 "nbformat": 4,
 "nbformat_minor": 5
}
